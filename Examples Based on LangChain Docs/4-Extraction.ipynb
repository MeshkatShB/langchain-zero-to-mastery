{
 "cells": [
  {
   "cell_type": "markdown",
   "metadata": {},
   "source": [
    "# Build an Extraction Chain\n",
    "\n",
    "`Extraction`: Extract structured data from text and other unstructured media using `chat models` and `few-shot examples`.\n",
    "\n",
    "In this tutorial, we will use `tool-calling` features of `chat models` to extract structured information from unstructured text. We will also demonstrate how to use `few-shot prompting` in this context to improve performance.\n"
   ]
  }
 ],
 "metadata": {
  "kernelspec": {
   "display_name": ".venv",
   "language": "python",
   "name": "python3"
  },
  "language_info": {
   "name": "python",
   "version": "3.12.8"
  }
 },
 "nbformat": 4,
 "nbformat_minor": 2
}
