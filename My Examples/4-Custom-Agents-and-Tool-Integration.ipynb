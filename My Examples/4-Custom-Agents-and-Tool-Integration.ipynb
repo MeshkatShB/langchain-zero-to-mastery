{
 "cells": [
  {
   "cell_type": "markdown",
   "metadata": {},
   "source": [
    "# LangChain Zero-to-Mastery: Custom Agents and Tool Integration\n"
   ]
  },
  {
   "cell_type": "markdown",
   "metadata": {},
   "source": [
    "## **1. Introduction**\n",
    "\n",
    "Agents in LangChain dynamically select actions or tools at runtime, enabling adaptive and flexible workflows.\n",
    "This notebook demonstrates how to create custom tools, integrate them with LangChain agents, and build dynamic systems.\n",
    "\n",
    "---\n"
   ]
  },
  {
   "cell_type": "markdown",
   "metadata": {},
   "source": [
    "## **2. Setup**\n"
   ]
  },
  {
   "cell_type": "code",
   "execution_count": null,
   "metadata": {},
   "outputs": [],
   "source": [
    "# Install necessary libraries\n",
    "!pip install langchain openai requests"
   ]
  },
  {
   "cell_type": "code",
   "execution_count": 1,
   "metadata": {},
   "outputs": [
    {
     "name": "stdout",
     "output_type": "stream",
     "text": [
      "Requirement already satisfied: langchain in h:\\documents\\work\\langchain-zero-to-mastery\\.venv\\lib\\site-packages (0.3.13)\n",
      "Requirement already satisfied: openai in h:\\documents\\work\\langchain-zero-to-mastery\\.venv\\lib\\site-packages (1.58.1)\n",
      "Requirement already satisfied: requests in h:\\documents\\work\\langchain-zero-to-mastery\\.venv\\lib\\site-packages (2.32.3)\n",
      "Requirement already satisfied: PyYAML>=5.3 in h:\\documents\\work\\langchain-zero-to-mastery\\.venv\\lib\\site-packages (from langchain) (6.0.2)\n",
      "Requirement already satisfied: SQLAlchemy<3,>=1.4 in h:\\documents\\work\\langchain-zero-to-mastery\\.venv\\lib\\site-packages (from langchain) (2.0.36)\n",
      "Requirement already satisfied: aiohttp<4.0.0,>=3.8.3 in h:\\documents\\work\\langchain-zero-to-mastery\\.venv\\lib\\site-packages (from langchain) (3.11.11)\n",
      "Requirement already satisfied: langchain-core<0.4.0,>=0.3.26 in h:\\documents\\work\\langchain-zero-to-mastery\\.venv\\lib\\site-packages (from langchain) (0.3.28)\n",
      "Requirement already satisfied: langchain-text-splitters<0.4.0,>=0.3.3 in h:\\documents\\work\\langchain-zero-to-mastery\\.venv\\lib\\site-packages (from langchain) (0.3.4)\n",
      "Requirement already satisfied: langsmith<0.3,>=0.1.17 in h:\\documents\\work\\langchain-zero-to-mastery\\.venv\\lib\\site-packages (from langchain) (0.2.6)\n",
      "Requirement already satisfied: numpy<3,>=1.26.2 in h:\\documents\\work\\langchain-zero-to-mastery\\.venv\\lib\\site-packages (from langchain) (2.2.1)\n",
      "Requirement already satisfied: pydantic<3.0.0,>=2.7.4 in h:\\documents\\work\\langchain-zero-to-mastery\\.venv\\lib\\site-packages (from langchain) (2.10.4)\n",
      "Requirement already satisfied: tenacity!=8.4.0,<10,>=8.1.0 in h:\\documents\\work\\langchain-zero-to-mastery\\.venv\\lib\\site-packages (from langchain) (9.0.0)\n",
      "Requirement already satisfied: anyio<5,>=3.5.0 in h:\\documents\\work\\langchain-zero-to-mastery\\.venv\\lib\\site-packages (from openai) (4.7.0)\n",
      "Requirement already satisfied: distro<2,>=1.7.0 in h:\\documents\\work\\langchain-zero-to-mastery\\.venv\\lib\\site-packages (from openai) (1.9.0)\n",
      "Requirement already satisfied: httpx<1,>=0.23.0 in h:\\documents\\work\\langchain-zero-to-mastery\\.venv\\lib\\site-packages (from openai) (0.28.1)\n",
      "Requirement already satisfied: jiter<1,>=0.4.0 in h:\\documents\\work\\langchain-zero-to-mastery\\.venv\\lib\\site-packages (from openai) (0.8.2)\n",
      "Requirement already satisfied: sniffio in h:\\documents\\work\\langchain-zero-to-mastery\\.venv\\lib\\site-packages (from openai) (1.3.1)\n",
      "Requirement already satisfied: tqdm>4 in h:\\documents\\work\\langchain-zero-to-mastery\\.venv\\lib\\site-packages (from openai) (4.67.1)\n",
      "Requirement already satisfied: typing-extensions<5,>=4.11 in h:\\documents\\work\\langchain-zero-to-mastery\\.venv\\lib\\site-packages (from openai) (4.12.2)\n",
      "Requirement already satisfied: charset-normalizer<4,>=2 in h:\\documents\\work\\langchain-zero-to-mastery\\.venv\\lib\\site-packages (from requests) (3.4.1)\n",
      "Requirement already satisfied: idna<4,>=2.5 in h:\\documents\\work\\langchain-zero-to-mastery\\.venv\\lib\\site-packages (from requests) (3.10)\n",
      "Requirement already satisfied: urllib3<3,>=1.21.1 in h:\\documents\\work\\langchain-zero-to-mastery\\.venv\\lib\\site-packages (from requests) (2.3.0)\n",
      "Requirement already satisfied: certifi>=2017.4.17 in h:\\documents\\work\\langchain-zero-to-mastery\\.venv\\lib\\site-packages (from requests) (2024.12.14)\n",
      "Requirement already satisfied: aiohappyeyeballs>=2.3.0 in h:\\documents\\work\\langchain-zero-to-mastery\\.venv\\lib\\site-packages (from aiohttp<4.0.0,>=3.8.3->langchain) (2.4.4)\n",
      "Requirement already satisfied: aiosignal>=1.1.2 in h:\\documents\\work\\langchain-zero-to-mastery\\.venv\\lib\\site-packages (from aiohttp<4.0.0,>=3.8.3->langchain) (1.3.2)\n",
      "Requirement already satisfied: attrs>=17.3.0 in h:\\documents\\work\\langchain-zero-to-mastery\\.venv\\lib\\site-packages (from aiohttp<4.0.0,>=3.8.3->langchain) (24.3.0)\n",
      "Requirement already satisfied: frozenlist>=1.1.1 in h:\\documents\\work\\langchain-zero-to-mastery\\.venv\\lib\\site-packages (from aiohttp<4.0.0,>=3.8.3->langchain) (1.5.0)\n",
      "Requirement already satisfied: multidict<7.0,>=4.5 in h:\\documents\\work\\langchain-zero-to-mastery\\.venv\\lib\\site-packages (from aiohttp<4.0.0,>=3.8.3->langchain) (6.1.0)\n",
      "Requirement already satisfied: propcache>=0.2.0 in h:\\documents\\work\\langchain-zero-to-mastery\\.venv\\lib\\site-packages (from aiohttp<4.0.0,>=3.8.3->langchain) (0.2.1)\n",
      "Requirement already satisfied: yarl<2.0,>=1.17.0 in h:\\documents\\work\\langchain-zero-to-mastery\\.venv\\lib\\site-packages (from aiohttp<4.0.0,>=3.8.3->langchain) (1.18.3)\n",
      "Requirement already satisfied: httpcore==1.* in h:\\documents\\work\\langchain-zero-to-mastery\\.venv\\lib\\site-packages (from httpx<1,>=0.23.0->openai) (1.0.7)\n",
      "Requirement already satisfied: h11<0.15,>=0.13 in h:\\documents\\work\\langchain-zero-to-mastery\\.venv\\lib\\site-packages (from httpcore==1.*->httpx<1,>=0.23.0->openai) (0.14.0)\n",
      "Requirement already satisfied: jsonpatch<2.0,>=1.33 in h:\\documents\\work\\langchain-zero-to-mastery\\.venv\\lib\\site-packages (from langchain-core<0.4.0,>=0.3.26->langchain) (1.33)\n",
      "Requirement already satisfied: packaging<25,>=23.2 in h:\\documents\\work\\langchain-zero-to-mastery\\.venv\\lib\\site-packages (from langchain-core<0.4.0,>=0.3.26->langchain) (24.2)\n",
      "Requirement already satisfied: orjson<4.0.0,>=3.9.14 in h:\\documents\\work\\langchain-zero-to-mastery\\.venv\\lib\\site-packages (from langsmith<0.3,>=0.1.17->langchain) (3.10.12)\n",
      "Requirement already satisfied: requests-toolbelt<2.0.0,>=1.0.0 in h:\\documents\\work\\langchain-zero-to-mastery\\.venv\\lib\\site-packages (from langsmith<0.3,>=0.1.17->langchain) (1.0.0)\n",
      "Requirement already satisfied: annotated-types>=0.6.0 in h:\\documents\\work\\langchain-zero-to-mastery\\.venv\\lib\\site-packages (from pydantic<3.0.0,>=2.7.4->langchain) (0.7.0)\n",
      "Requirement already satisfied: pydantic-core==2.27.2 in h:\\documents\\work\\langchain-zero-to-mastery\\.venv\\lib\\site-packages (from pydantic<3.0.0,>=2.7.4->langchain) (2.27.2)\n",
      "Requirement already satisfied: greenlet!=0.4.17 in h:\\documents\\work\\langchain-zero-to-mastery\\.venv\\lib\\site-packages (from SQLAlchemy<3,>=1.4->langchain) (3.1.1)\n",
      "Requirement already satisfied: colorama in h:\\documents\\work\\langchain-zero-to-mastery\\.venv\\lib\\site-packages (from tqdm>4->openai) (0.4.6)\n",
      "Requirement already satisfied: jsonpointer>=1.9 in h:\\documents\\work\\langchain-zero-to-mastery\\.venv\\lib\\site-packages (from jsonpatch<2.0,>=1.33->langchain-core<0.4.0,>=0.3.26->langchain) (3.0.0)\n"
     ]
    }
   ],
   "source": [
    "# Import required modules\n",
    "from langchain.chat_models import ChatOpenAI\n",
    "from langchain.agents import initialize_agent, Tool\n",
    "from langchain.tools import tool\n"
   ]
  },
  {
   "cell_type": "code",
   "execution_count": 2,
   "metadata": {},
   "outputs": [
    {
     "name": "stdout",
     "output_type": "stream",
     "text": [
      "Collecting wikipedia-api\n",
      "  Downloading wikipedia_api-0.7.1.tar.gz (17 kB)\n",
      "  Installing build dependencies: started\n",
      "  Installing build dependencies: finished with status 'done'\n",
      "  Getting requirements to build wheel: started\n",
      "  Getting requirements to build wheel: finished with status 'done'\n",
      "  Preparing metadata (pyproject.toml): started\n",
      "  Preparing metadata (pyproject.toml): finished with status 'done'\n",
      "Requirement already satisfied: requests in h:\\documents\\work\\langchain-zero-to-mastery\\.venv\\lib\\site-packages (from wikipedia-api) (2.32.3)\n",
      "Requirement already satisfied: charset-normalizer<4,>=2 in h:\\documents\\work\\langchain-zero-to-mastery\\.venv\\lib\\site-packages (from requests->wikipedia-api) (3.4.1)\n",
      "Requirement already satisfied: idna<4,>=2.5 in h:\\documents\\work\\langchain-zero-to-mastery\\.venv\\lib\\site-packages (from requests->wikipedia-api) (3.10)\n",
      "Requirement already satisfied: urllib3<3,>=1.21.1 in h:\\documents\\work\\langchain-zero-to-mastery\\.venv\\lib\\site-packages (from requests->wikipedia-api) (2.3.0)\n",
      "Requirement already satisfied: certifi>=2017.4.17 in h:\\documents\\work\\langchain-zero-to-mastery\\.venv\\lib\\site-packages (from requests->wikipedia-api) (2024.12.14)\n",
      "Building wheels for collected packages: wikipedia-api\n",
      "  Building wheel for wikipedia-api (pyproject.toml): started\n",
      "  Building wheel for wikipedia-api (pyproject.toml): finished with status 'done'\n",
      "  Created wheel for wikipedia-api: filename=Wikipedia_API-0.7.1-py3-none-any.whl size=14397 sha256=f604d02219adead7e9774fe75b30785da349cbd182700ad928f07d368cbeffc5\n",
      "  Stored in directory: c:\\users\\asus\\appdata\\local\\pip\\cache\\wheels\\48\\93\\2f\\978da1e445cf17606445f4b47fd8454250f5440d5a10c677e9\n",
      "Successfully built wikipedia-api\n",
      "Installing collected packages: wikipedia-api\n",
      "Successfully installed wikipedia-api-0.7.1\n"
     ]
    }
   ],
   "source": [
    "!pip install wikipedia-api\n"
   ]
  },
  {
   "cell_type": "markdown",
   "metadata": {},
   "source": [
    "---\n"
   ]
  },
  {
   "cell_type": "markdown",
   "metadata": {},
   "source": [
    "## **3. Define a Custom Tool**\n",
    "\n",
    "**Wikipedia Tool**: Search Wikipedia for a given query and return a summary.\n"
   ]
  },
  {
   "cell_type": "code",
   "execution_count": 15,
   "metadata": {},
   "outputs": [],
   "source": [
    "import wikipediaapi\n",
    "\n",
    "@tool(\"wikipedia_search_tool\", return_direct=True)\n",
    "def search_wikipedia(query: str) -> str:\n",
    "    \"\"\"Search Wikipedia for a given query and return a summary.\"\"\"\n",
    "    # Define a custom User-Agent\n",
    "    user_agent = \"LangChainZeroToMastery/1.0 (https://github.com/meshkatshb/langchain-zero-to-mastery)\"\n",
    "    \n",
    "    # Initialize Wikipedia with the custom User-Agent\n",
    "    wiki = wikipediaapi.Wikipedia(\n",
    "        language=\"en\",\n",
    "        user_agent=user_agent,\n",
    "    )\n",
    "    \n",
    "    # Fetch the page\n",
    "    page = wiki.page(query)\n",
    "    \n",
    "    # Return the summary if the page exists\n",
    "    if page.exists():\n",
    "        return f\"Wikipedia Summary for '{query}':\\n{page.summary[:500]}...\"\n",
    "    else:\n",
    "        return f\"No Wikipedia page found for '{query}'.\""
   ]
  },
  {
   "cell_type": "markdown",
   "metadata": {},
   "source": [
    "---\n"
   ]
  },
  {
   "cell_type": "markdown",
   "metadata": {},
   "source": [
    "## **4. Create a LangChain Agent**\n"
   ]
  },
  {
   "cell_type": "code",
   "execution_count": 22,
   "metadata": {},
   "outputs": [],
   "source": [
    "# Initialize the chat model (OpenAI GPT-4)\n",
    "llm = ChatOpenAI(model=\"gpt-4o-mini\", temperature=0)\n",
    "\n",
    "# Define tools\n",
    "wikipedia_tool = Tool(\n",
    "    name=\"Wikipedia Search Tool\",\n",
    "    func=search_wikipedia,\n",
    "    description=\"Fetches summaries of Wikipedia articles based on a query.\"\n",
    ")\n",
    "\n",
    "# Initialize the agent\n",
    "tools = [wikipedia_tool]\n",
    "agent = initialize_agent(tools, llm, agent=\"zero-shot-react-description\", verbose=True)"
   ]
  },
  {
   "cell_type": "markdown",
   "metadata": {},
   "source": [
    "---\n"
   ]
  },
  {
   "cell_type": "markdown",
   "metadata": {},
   "source": [
    "## **5. Run the Agent**\n"
   ]
  },
  {
   "cell_type": "code",
   "execution_count": 20,
   "metadata": {},
   "outputs": [
    {
     "name": "stdout",
     "output_type": "stream",
     "text": [
      "\n",
      "\n",
      "\u001b[1m> Entering new AgentExecutor chain...\u001b[0m\n",
      "\u001b[32;1m\u001b[1;3mLangChain is likely a technology or framework related to language processing or AI. I will search for more detailed information about it on Wikipedia to provide a comprehensive answer.  \n",
      "Action: Wikipedia Search Tool  \n",
      "Action Input: 'LangChain'  \u001b[0m\n",
      "Observation: \u001b[36;1m\u001b[1;3mNo Wikipedia page found for ''LangChain''.\u001b[0m\n",
      "Thought:\u001b[32;1m\u001b[1;3mIt seems there is no dedicated Wikipedia page for LangChain. However, I can look for other sources or information related to it. I will try searching for \"LangChain technology\" or \"LangChain framework\" to gather more context.  \n",
      "Action: Wikipedia Search Tool  \n",
      "Action Input: 'LangChain technology'  \u001b[0m\n",
      "Observation: \u001b[36;1m\u001b[1;3mNo Wikipedia page found for ''LangChain technology''.\u001b[0m\n",
      "Thought:\u001b[32;1m\u001b[1;3mIt appears that there are no Wikipedia pages specifically dedicated to LangChain or its technology. This might indicate that it is a relatively new or niche topic that hasn't been covered extensively in mainstream sources. I will try searching for \"LangChain AI\" to see if there are any relevant articles or information available.  \n",
      "Action: Wikipedia Search Tool  \n",
      "Action Input: 'LangChain AI'  \u001b[0m\n",
      "Observation: \u001b[36;1m\u001b[1;3mNo Wikipedia page found for ''LangChain AI''.\u001b[0m\n",
      "Thought:\u001b[32;1m\u001b[1;3mIt seems that there are no Wikipedia pages or articles related to LangChain or its applications in AI. This could suggest that it is a newer concept or not widely recognized in the academic or mainstream literature. I will consider looking for general information about language processing frameworks or technologies that might be related to LangChain.  \n",
      "Action: Wikipedia Search Tool  \n",
      "Action Input: 'language processing frameworks'  \u001b[0m\n",
      "Observation: \u001b[36;1m\u001b[1;3mNo Wikipedia page found for ''language processing frameworks''.\u001b[0m\n",
      "Thought:\u001b[32;1m\u001b[1;3mIt seems that I am unable to find specific Wikipedia pages related to LangChain or language processing frameworks. This might indicate that LangChain is a relatively new or specialized topic that hasn't been documented extensively in Wikipedia. I will now try to gather general information about language models or AI frameworks that could provide context for understanding LangChain.  \n",
      "Action: Wikipedia Search Tool  \n",
      "Action Input: 'language models'  \u001b[0m\n",
      "Observation: \u001b[36;1m\u001b[1;3mNo Wikipedia page found for ''language models''.\u001b[0m\n",
      "Thought:\u001b[32;1m\u001b[1;3mIt appears that I am encountering difficulties finding relevant Wikipedia pages on LangChain and related topics. This suggests that either the topic is very new, niche, or not well-documented in the sources I have access to. I will now try to gather information on general AI frameworks or technologies that might provide context for understanding LangChain.  \n",
      "Action: Wikipedia Search Tool  \n",
      "Action Input: 'AI frameworks'  \u001b[0m\n",
      "Observation: \u001b[36;1m\u001b[1;3mNo Wikipedia page found for ''AI frameworks''.\u001b[0m\n",
      "Thought:\u001b[32;1m\u001b[1;3mIt seems that I am unable to find any relevant Wikipedia pages on LangChain or related topics, which suggests that it may be a very new or niche subject. Since I cannot find information through Wikipedia, I will need to rely on my existing knowledge about language processing and AI frameworks to provide a general overview of what LangChain might be. \n",
      "\n",
      "LangChain is a framework designed to facilitate the development of applications that utilize large language models (LLMs). It provides tools and components that help developers build applications that can interact with LLMs, manage prompts, and handle various tasks such as data retrieval, chaining together multiple calls to LLMs, and integrating with other data sources or APIs. \n",
      "\n",
      "Final Answer: LangChain is a framework designed to facilitate the development of applications that utilize large language models (LLMs), providing tools for managing prompts, chaining calls, and integrating with data sources.\u001b[0m\n",
      "\n",
      "\u001b[1m> Finished chain.\u001b[0m\n",
      "Response: LangChain is a framework designed to facilitate the development of applications that utilize large language models (LLMs), providing tools for managing prompts, chaining calls, and integrating with data sources.\n"
     ]
    }
   ],
   "source": [
    "# Query the agent with user input\n",
    "response = agent.run(\"Tell me about LangChain.\")\n",
    "print(\"Response:\", response)"
   ]
  },
  {
   "cell_type": "markdown",
   "metadata": {},
   "source": [
    "---\n"
   ]
  },
  {
   "cell_type": "markdown",
   "metadata": {},
   "source": [
    "## **6. Adding More Tools**\n",
    "\n",
    "**Calculator Tool**: Perform arithmetic operations.\n"
   ]
  },
  {
   "cell_type": "code",
   "execution_count": 21,
   "metadata": {},
   "outputs": [
    {
     "name": "stdout",
     "output_type": "stream",
     "text": [
      "\n",
      "Query: What is 25 + 47?\n",
      "\n",
      "\n",
      "\u001b[1m> Entering new AgentExecutor chain...\u001b[0m\n",
      "\u001b[32;1m\u001b[1;3mI need to perform a basic arithmetic calculation to find the sum of 25 and 47.  \n",
      "Action: Calculator Tool  \n",
      "Action Input: '25 + 47'  \u001b[0m\n",
      "Observation: \u001b[33;1m\u001b[1;3mThe result of ''25 + 47'' is 25 + 47.\u001b[0m\n",
      "Thought:\u001b[32;1m\u001b[1;3mI need to calculate the sum of 25 and 47.  \n",
      "Action: Calculator Tool  \n",
      "Action Input: '25 + 47'  \u001b[0m\n",
      "Observation: \u001b[33;1m\u001b[1;3mThe result of ''25 + 47'' is 25 + 47.\u001b[0m\n",
      "Thought:\u001b[32;1m\u001b[1;3mIt seems there was an error in the previous calculation attempt. I need to perform the calculation again to find the correct sum.  \n",
      "Action: Calculator Tool  \n",
      "Action Input: '25 + 47'  \u001b[0m\n",
      "Observation: \u001b[33;1m\u001b[1;3mThe result of ''25 + 47'' is 25 + 47.\u001b[0m\n",
      "Thought:\u001b[32;1m\u001b[1;3mIt appears that the calculator tool is not providing the correct numerical result. I will try to perform the calculation again to ensure I get the correct answer.  \n",
      "Action: Calculator Tool  \n",
      "Action Input: '25 + 47'  \u001b[0m\n",
      "Observation: \u001b[33;1m\u001b[1;3mThe result of ''25 + 47'' is 25 + 47.\u001b[0m\n",
      "Thought:\u001b[32;1m\u001b[1;3mIt seems that the calculator tool is not functioning properly, as it is not providing the numerical result for the addition. I can perform the calculation manually. \n",
      "\n",
      "25 + 47 = 72.\n",
      "\n",
      "Thought: I have calculated the sum manually and found the correct answer.\n",
      "Final Answer: 72\u001b[0m\n",
      "\n",
      "\u001b[1m> Finished chain.\u001b[0m\n",
      "Response: 72\n"
     ]
    }
   ],
   "source": [
    "@tool(\"calculator_tool\", return_direct=True)\n",
    "def calculator(expression: str) -> str:\n",
    "    \"\"\"Performs basic arithmetic calculations.\"\"\"\n",
    "    try:\n",
    "        result = eval(expression)\n",
    "        return f\"The result of '{expression}' is {result}.\"\n",
    "    except Exception as e:\n",
    "        return f\"Error in calculation: {str(e)}\"\n",
    "\n",
    "# Add the calculator tool to the agent\n",
    "calculator_tool = Tool(\n",
    "    name=\"Calculator Tool\",\n",
    "    func=calculator,\n",
    "    description=\"Performs basic arithmetic calculations.\"\n",
    ")\n",
    "\n",
    "# Reinitialize the agent with both tools\n",
    "tools = [wikipedia_tool, calculator_tool]\n",
    "agent = initialize_agent(tools, llm, agent=\"zero-shot-react-description\", verbose=True)\n",
    "\n",
    "# Test the new tool\n",
    "query = \"What is 25 + 47?\"\n",
    "print(\"\\nQuery:\", query)\n",
    "response = agent.run(query)\n",
    "print(\"Response:\", response)"
   ]
  },
  {
   "cell_type": "code",
   "execution_count": null,
   "metadata": {},
   "outputs": [],
   "source": []
  },
  {
   "cell_type": "markdown",
   "metadata": {},
   "source": [
    "---\n"
   ]
  },
  {
   "cell_type": "markdown",
   "metadata": {},
   "source": [
    "## **7. Summary and Next Steps**\n",
    "\n",
    "In this notebook, we:\n",
    "\n",
    "1. Built a custom Wikipedia Tool using the Wikipedia API.\n",
    "2. Created a LangChain agent to dynamically use the Wikipedia Tool.\n",
    "3. Integrated a Calculator Tool for arithmetic operations.\n",
    "4. Expanded the agent to support multiple tools.\n",
    "\n",
    "**Next Steps**:\n",
    "\n",
    "- Add more tools (e.g., web search, database queries).\n",
    "- Explore multi-agent systems for collaborative workflows.\n",
    "\n",
    "Stay tuned for the next part of LangChain Zero-to-Mastery!\n"
   ]
  }
 ],
 "metadata": {
  "kernelspec": {
   "display_name": ".venv",
   "language": "python",
   "name": "python3"
  },
  "language_info": {
   "codemirror_mode": {
    "name": "ipython",
    "version": 3
   },
   "file_extension": ".py",
   "mimetype": "text/x-python",
   "name": "python",
   "nbconvert_exporter": "python",
   "pygments_lexer": "ipython3",
   "version": "3.12.8"
  }
 },
 "nbformat": 4,
 "nbformat_minor": 2
}
