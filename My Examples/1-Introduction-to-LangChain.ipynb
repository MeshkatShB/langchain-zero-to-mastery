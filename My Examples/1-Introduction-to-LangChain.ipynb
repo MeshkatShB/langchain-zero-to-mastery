{
 "cells": [
  {
   "cell_type": "markdown",
   "metadata": {},
   "source": [
    "# LangChain Zero to Mastery: Part 1 - Introduction to LangChain\n"
   ]
  },
  {
   "cell_type": "markdown",
   "metadata": {},
   "source": [
    "## Introduction\n",
    "\n",
    "LangChain is a powerful framework designed to streamline the integration of large language models (LLMs) into various applications. It simplifies workflows by offering modular components such as Chains, Agents, Tools, and Memory, enabling developers to build complex systems with ease.\n"
   ]
  },
  {
   "cell_type": "markdown",
   "metadata": {},
   "source": [
    "## In this notebook, we will:\n",
    "\n",
    "1. Explore what LangChain is and why it's useful.\n",
    "2. Understand its core concepts: Chains, Memory, and Tools.\n",
    "3. Set up LangChain in your environment.\n",
    "4. Create a simple example to get started.\n",
    "\n",
    "---\n"
   ]
  },
  {
   "cell_type": "markdown",
   "metadata": {},
   "source": [
    "## 1. What is LangChain?\n",
    "\n",
    "LangChain is a Python library that enables developers to:\n",
    "\n",
    "- Combine LLMs with external tools (e.g., APIs, databases).\n",
    "- Add context-awareness to applications using memory.\n",
    "- Build multi-step workflows with Chains and Agents.\n"
   ]
  },
  {
   "cell_type": "markdown",
   "metadata": {},
   "source": [
    "### Why Use LangChain?\n",
    "\n",
    "- **Simplifies Development**: Provides ready-to-use components for LLM workflows.\n",
    "- **Modular Design**: Customize and extend functionalities as needed.\n",
    "- **Supports Advanced Use Cases**: From chatbots to document processing, LangChain is versatile.\n",
    "\n",
    "---\n"
   ]
  },
  {
   "cell_type": "markdown",
   "metadata": {},
   "source": [
    "## 2. Core Concepts of LangChain\n",
    "\n",
    "### Chains\n",
    "\n",
    "A chain is a sequence of steps that process inputs and produce outputs. LangChain supports:\n",
    "\n",
    "- **Sequential Chains**: Steps executed one after another.\n",
    "- **Parallel Chains**: Steps executed simultaneously.\n"
   ]
  },
  {
   "cell_type": "markdown",
   "metadata": {},
   "source": [
    "### Memory\n",
    "\n",
    "Memory allows LangChain applications to retain context between user interactions. Examples include:\n",
    "\n",
    "- **ConversationBufferMemory**: Stores previous interactions.\n",
    "- **ConversationSummaryMemory**: Summarizes previous interactions for efficiency.\n"
   ]
  },
  {
   "cell_type": "markdown",
   "metadata": {},
   "source": [
    "### Tools\n",
    "\n",
    "Tools are external utilities that LangChain interacts with, such as:\n",
    "\n",
    "- APIs\n",
    "- Databases\n",
    "- Custom scripts\n",
    "\n",
    "---\n"
   ]
  },
  {
   "cell_type": "markdown",
   "metadata": {},
   "source": [
    "## 3. Setting Up LangChain\n"
   ]
  },
  {
   "cell_type": "markdown",
   "metadata": {},
   "source": [
    "### Install LangChain\n",
    "\n",
    "First, install LangChain using pip:\n"
   ]
  },
  {
   "cell_type": "code",
   "execution_count": null,
   "metadata": {},
   "outputs": [
    {
     "name": "stdout",
     "output_type": "stream",
     "text": [
      "Requirement already satisfied: langchain in h:\\documents\\work\\langchain-zero-to-mastery\\.venv\\lib\\site-packages (0.3.13)\n",
      "Requirement already satisfied: openai in h:\\documents\\work\\langchain-zero-to-mastery\\.venv\\lib\\site-packages (1.58.1)\n",
      "Requirement already satisfied: PyYAML>=5.3 in h:\\documents\\work\\langchain-zero-to-mastery\\.venv\\lib\\site-packages (from langchain) (6.0.2)\n",
      "Requirement already satisfied: SQLAlchemy<3,>=1.4 in h:\\documents\\work\\langchain-zero-to-mastery\\.venv\\lib\\site-packages (from langchain) (2.0.36)\n",
      "Requirement already satisfied: aiohttp<4.0.0,>=3.8.3 in h:\\documents\\work\\langchain-zero-to-mastery\\.venv\\lib\\site-packages (from langchain) (3.11.11)\n",
      "Requirement already satisfied: langchain-core<0.4.0,>=0.3.26 in h:\\documents\\work\\langchain-zero-to-mastery\\.venv\\lib\\site-packages (from langchain) (0.3.28)\n",
      "Requirement already satisfied: langchain-text-splitters<0.4.0,>=0.3.3 in h:\\documents\\work\\langchain-zero-to-mastery\\.venv\\lib\\site-packages (from langchain) (0.3.4)\n",
      "Requirement already satisfied: langsmith<0.3,>=0.1.17 in h:\\documents\\work\\langchain-zero-to-mastery\\.venv\\lib\\site-packages (from langchain) (0.2.6)\n",
      "Requirement already satisfied: numpy<3,>=1.26.2 in h:\\documents\\work\\langchain-zero-to-mastery\\.venv\\lib\\site-packages (from langchain) (2.2.1)\n",
      "Requirement already satisfied: pydantic<3.0.0,>=2.7.4 in h:\\documents\\work\\langchain-zero-to-mastery\\.venv\\lib\\site-packages (from langchain) (2.10.4)\n",
      "Requirement already satisfied: requests<3,>=2 in h:\\documents\\work\\langchain-zero-to-mastery\\.venv\\lib\\site-packages (from langchain) (2.32.3)\n",
      "Requirement already satisfied: tenacity!=8.4.0,<10,>=8.1.0 in h:\\documents\\work\\langchain-zero-to-mastery\\.venv\\lib\\site-packages (from langchain) (9.0.0)\n",
      "Requirement already satisfied: anyio<5,>=3.5.0 in h:\\documents\\work\\langchain-zero-to-mastery\\.venv\\lib\\site-packages (from openai) (4.7.0)\n",
      "Requirement already satisfied: distro<2,>=1.7.0 in h:\\documents\\work\\langchain-zero-to-mastery\\.venv\\lib\\site-packages (from openai) (1.9.0)\n",
      "Requirement already satisfied: httpx<1,>=0.23.0 in h:\\documents\\work\\langchain-zero-to-mastery\\.venv\\lib\\site-packages (from openai) (0.28.1)\n",
      "Requirement already satisfied: jiter<1,>=0.4.0 in h:\\documents\\work\\langchain-zero-to-mastery\\.venv\\lib\\site-packages (from openai) (0.8.2)\n",
      "Requirement already satisfied: sniffio in h:\\documents\\work\\langchain-zero-to-mastery\\.venv\\lib\\site-packages (from openai) (1.3.1)\n",
      "Requirement already satisfied: tqdm>4 in h:\\documents\\work\\langchain-zero-to-mastery\\.venv\\lib\\site-packages (from openai) (4.67.1)\n",
      "Requirement already satisfied: typing-extensions<5,>=4.11 in h:\\documents\\work\\langchain-zero-to-mastery\\.venv\\lib\\site-packages (from openai) (4.12.2)\n",
      "Requirement already satisfied: aiohappyeyeballs>=2.3.0 in h:\\documents\\work\\langchain-zero-to-mastery\\.venv\\lib\\site-packages (from aiohttp<4.0.0,>=3.8.3->langchain) (2.4.4)\n",
      "Requirement already satisfied: aiosignal>=1.1.2 in h:\\documents\\work\\langchain-zero-to-mastery\\.venv\\lib\\site-packages (from aiohttp<4.0.0,>=3.8.3->langchain) (1.3.2)\n",
      "Requirement already satisfied: attrs>=17.3.0 in h:\\documents\\work\\langchain-zero-to-mastery\\.venv\\lib\\site-packages (from aiohttp<4.0.0,>=3.8.3->langchain) (24.3.0)\n",
      "Requirement already satisfied: frozenlist>=1.1.1 in h:\\documents\\work\\langchain-zero-to-mastery\\.venv\\lib\\site-packages (from aiohttp<4.0.0,>=3.8.3->langchain) (1.5.0)\n",
      "Requirement already satisfied: multidict<7.0,>=4.5 in h:\\documents\\work\\langchain-zero-to-mastery\\.venv\\lib\\site-packages (from aiohttp<4.0.0,>=3.8.3->langchain) (6.1.0)\n",
      "Requirement already satisfied: propcache>=0.2.0 in h:\\documents\\work\\langchain-zero-to-mastery\\.venv\\lib\\site-packages (from aiohttp<4.0.0,>=3.8.3->langchain) (0.2.1)\n",
      "Requirement already satisfied: yarl<2.0,>=1.17.0 in h:\\documents\\work\\langchain-zero-to-mastery\\.venv\\lib\\site-packages (from aiohttp<4.0.0,>=3.8.3->langchain) (1.18.3)\n",
      "Requirement already satisfied: idna>=2.8 in h:\\documents\\work\\langchain-zero-to-mastery\\.venv\\lib\\site-packages (from anyio<5,>=3.5.0->openai) (3.10)\n",
      "Requirement already satisfied: certifi in h:\\documents\\work\\langchain-zero-to-mastery\\.venv\\lib\\site-packages (from httpx<1,>=0.23.0->openai) (2024.12.14)\n",
      "Requirement already satisfied: httpcore==1.* in h:\\documents\\work\\langchain-zero-to-mastery\\.venv\\lib\\site-packages (from httpx<1,>=0.23.0->openai) (1.0.7)\n",
      "Requirement already satisfied: h11<0.15,>=0.13 in h:\\documents\\work\\langchain-zero-to-mastery\\.venv\\lib\\site-packages (from httpcore==1.*->httpx<1,>=0.23.0->openai) (0.14.0)\n",
      "Requirement already satisfied: jsonpatch<2.0,>=1.33 in h:\\documents\\work\\langchain-zero-to-mastery\\.venv\\lib\\site-packages (from langchain-core<0.4.0,>=0.3.26->langchain) (1.33)\n",
      "Requirement already satisfied: packaging<25,>=23.2 in h:\\documents\\work\\langchain-zero-to-mastery\\.venv\\lib\\site-packages (from langchain-core<0.4.0,>=0.3.26->langchain) (24.2)\n",
      "Requirement already satisfied: orjson<4.0.0,>=3.9.14 in h:\\documents\\work\\langchain-zero-to-mastery\\.venv\\lib\\site-packages (from langsmith<0.3,>=0.1.17->langchain) (3.10.12)\n",
      "Requirement already satisfied: requests-toolbelt<2.0.0,>=1.0.0 in h:\\documents\\work\\langchain-zero-to-mastery\\.venv\\lib\\site-packages (from langsmith<0.3,>=0.1.17->langchain) (1.0.0)\n",
      "Requirement already satisfied: annotated-types>=0.6.0 in h:\\documents\\work\\langchain-zero-to-mastery\\.venv\\lib\\site-packages (from pydantic<3.0.0,>=2.7.4->langchain) (0.7.0)\n",
      "Requirement already satisfied: pydantic-core==2.27.2 in h:\\documents\\work\\langchain-zero-to-mastery\\.venv\\lib\\site-packages (from pydantic<3.0.0,>=2.7.4->langchain) (2.27.2)\n",
      "Requirement already satisfied: charset-normalizer<4,>=2 in h:\\documents\\work\\langchain-zero-to-mastery\\.venv\\lib\\site-packages (from requests<3,>=2->langchain) (3.4.1)\n",
      "Requirement already satisfied: urllib3<3,>=1.21.1 in h:\\documents\\work\\langchain-zero-to-mastery\\.venv\\lib\\site-packages (from requests<3,>=2->langchain) (2.3.0)\n",
      "Requirement already satisfied: greenlet!=0.4.17 in h:\\documents\\work\\langchain-zero-to-mastery\\.venv\\lib\\site-packages (from SQLAlchemy<3,>=1.4->langchain) (3.1.1)\n",
      "Requirement already satisfied: colorama in h:\\documents\\work\\langchain-zero-to-mastery\\.venv\\lib\\site-packages (from tqdm>4->openai) (0.4.6)\n",
      "Requirement already satisfied: jsonpointer>=1.9 in h:\\documents\\work\\langchain-zero-to-mastery\\.venv\\lib\\site-packages (from jsonpatch<2.0,>=1.33->langchain-core<0.4.0,>=0.3.26->langchain) (3.0.0)\n"
     ]
    }
   ],
   "source": [
    "!pip install langchain openai langchain-community langchain-openai"
   ]
  },
  {
   "cell_type": "markdown",
   "metadata": {},
   "source": [
    "### API Key Setup\n",
    "\n",
    "LangChain requires access to LLMs like OpenAI's GPT. Set up your OpenAI API key:\n"
   ]
  },
  {
   "cell_type": "code",
   "execution_count": 8,
   "metadata": {},
   "outputs": [],
   "source": [
    "import os\n",
    "api_key = os.getenv(\"OPENAI_API_KEY\")"
   ]
  },
  {
   "cell_type": "markdown",
   "metadata": {},
   "source": [
    "### Verify Installation\n"
   ]
  },
  {
   "cell_type": "code",
   "execution_count": 9,
   "metadata": {},
   "outputs": [
    {
     "name": "stdout",
     "output_type": "stream",
     "text": [
      "LangChain version: 0.3.13\n"
     ]
    }
   ],
   "source": [
    "import langchain\n",
    "print(f\"LangChain version: {langchain.__version__}\")"
   ]
  },
  {
   "cell_type": "markdown",
   "metadata": {},
   "source": [
    "---\n"
   ]
  },
  {
   "cell_type": "markdown",
   "metadata": {},
   "source": [
    "## 4. A Simple LangChain Example\n",
    "\n",
    "In this example, we will create a basic chain that processes user input and generates a response.\n"
   ]
  },
  {
   "cell_type": "code",
   "execution_count": 33,
   "metadata": {},
   "outputs": [
    {
     "name": "stdout",
     "output_type": "stream",
     "text": [
      "total number of used tokens for this query: 24\n"
     ]
    },
    {
     "data": {
      "text/plain": [
       "'4 plus 2 equals 6.'"
      ]
     },
     "execution_count": 33,
     "metadata": {},
     "output_type": "execute_result"
    }
   ],
   "source": [
    "from langchain_openai import ChatOpenAI\n",
    "\n",
    "\n",
    "model = ChatOpenAI(model=\"gpt-4o-mini\")\n",
    "\n",
    "result = model.invoke('what is 4 plus 2?')\n",
    "\n",
    "print(f\"total number of used tokens for this query: {result.response_metadata['token_usage']['total_tokens']}\")\n",
    "result.content"
   ]
  },
  {
   "cell_type": "code",
   "execution_count": 35,
   "metadata": {},
   "outputs": [
    {
     "name": "stderr",
     "output_type": "stream",
     "text": [
      "C:\\Users\\Asus\\AppData\\Local\\Temp\\ipykernel_21332\\1206072872.py:10: LangChainDeprecationWarning: The class `ChatOpenAI` was deprecated in LangChain 0.0.10 and will be removed in 1.0. An updated version of the class exists in the :class:`~langchain-openai package and should be used instead. To use it run `pip install -U :class:`~langchain-openai` and import as `from :class:`~langchain_openai import ChatOpenAI``.\n",
      "  llm = ChatOpenAI(model=\"gpt-4o-mini\", temperature=0.7)\n"
     ]
    },
    {
     "name": "stdout",
     "output_type": "stream",
     "text": [
      "Response: LangChain is a framework designed to facilitate the development of applications that utilize large language models (LLMs). It provides a set of tools and abstractions that make it easier for developers to build applications that can interact with LLMs in a more structured and efficient way. The framework supports various use cases, such as chatbots, question-answering systems, and other applications that require natural language processing capabilities.\n",
      "\n",
      "LangChain integrates with different LLMs and provides components for managing prompts, handling memory, managing chains of actions, and interacting with external data sources or APIs. This modular approach allows developers to construct complex workflows and applications by combining different components.\n",
      "\n",
      "Overall, LangChain aims to simplify the process of working with language models and enable developers to create more sophisticated and capable applications leveraging the power of AI.\n"
     ]
    }
   ],
   "source": [
    "from langchain.prompts import PromptTemplate\n",
    "from langchain.chat_models import ChatOpenAI\n",
    "from langchain.chains import LLMChain\n",
    "\n",
    "# Create a prompt template\n",
    "template = \"You are a helpful assistant. Answer the following question: {question}\"\n",
    "prompt = PromptTemplate(input_variables=[\"question\"], template=template)\n",
    "\n",
    "# Initialize the Chat-based LLM\n",
    "llm = ChatOpenAI(model=\"gpt-4o-mini\", temperature=0.7)\n",
    "\n",
    "# Create a simple chain\n",
    "chain = LLMChain(llm=llm, prompt=prompt)\n",
    "\n",
    "# Run the chain with an example input\n",
    "question = \"What is LangChain?\"\n",
    "response = chain.run(question)\n",
    "print(f\"Response: {response}\")\n"
   ]
  },
  {
   "cell_type": "markdown",
   "metadata": {},
   "source": [
    "---\n"
   ]
  },
  {
   "cell_type": "markdown",
   "metadata": {},
   "source": [
    "## 5. Next Steps\n",
    "\n",
    "In the next parts of this series, we will:\n",
    "\n",
    "- Dive deeper into Chains and Memory.\n",
    "- Build advanced workflows like document question-answering systems.\n",
    "- Explore how to use Agents and Tools for complex applications.\n",
    "\n",
    "Stay tuned for more! 🚀\n"
   ]
  }
 ],
 "metadata": {
  "kernelspec": {
   "display_name": ".venv",
   "language": "python",
   "name": "python3"
  },
  "language_info": {
   "codemirror_mode": {
    "name": "ipython",
    "version": 3
   },
   "file_extension": ".py",
   "mimetype": "text/x-python",
   "name": "python",
   "nbconvert_exporter": "python",
   "pygments_lexer": "ipython3",
   "version": "3.12.8"
  }
 },
 "nbformat": 4,
 "nbformat_minor": 2
}
