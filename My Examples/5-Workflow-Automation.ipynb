{
 "cells": [
  {
   "cell_type": "markdown",
   "metadata": {},
   "source": [
    "# LangChain Zero-to-Mastery: Workflow Automation with LangChain\n"
   ]
  },
  {
   "cell_type": "markdown",
   "metadata": {},
   "source": [
    "## Setup Environment\n"
   ]
  },
  {
   "cell_type": "code",
   "execution_count": 9,
   "metadata": {},
   "outputs": [],
   "source": [
    "import requests\n",
    "from langchain.tools import Tool\n",
    "from langchain.chat_models import ChatOpenAI\n",
    "from langchain.prompts import PromptTemplate"
   ]
  },
  {
   "cell_type": "markdown",
   "metadata": {},
   "source": [
    "## Define a custom tool for GitHub API\n"
   ]
  },
  {
   "cell_type": "code",
   "execution_count": 10,
   "metadata": {},
   "outputs": [],
   "source": [
    "def github_tool(repo_name: str) -> str:\n",
    "    \"\"\"\n",
    "    Fetch information about a GitHub repository using the GitHub API.\n",
    "\n",
    "    Args:\n",
    "        repo_name (str): The full name of the repository (e.g., `owner/repo`).\n",
    "\n",
    "    Returns:\n",
    "        str: Summary of the repository information.\n",
    "    \"\"\"\n",
    "    url = f\"https://api.github.com/repos/{repo_name}\"\n",
    "    headers = {\"Accept\": \"application/vnd.github.v3+json\"}\n",
    "    try:\n",
    "        response = requests.get(url, headers=headers)\n",
    "        response.raise_for_status()\n",
    "        data = response.json()\n",
    "        return (\n",
    "            f\"Repository: {data['full_name']}\\n\"\n",
    "            f\"Description: {data['description']}\\n\"\n",
    "            f\"Stars: {data['stargazers_count']}\\n\"\n",
    "            f\"Forks: {data['forks_count']}\\n\"\n",
    "            f\"Language: {data['language']}\\n\"\n",
    "            f\"URL: {data['html_url']}\"\n",
    "        )\n",
    "    except Exception as e:\n",
    "        return f\"Error fetching repository info: {e}\"\n"
   ]
  },
  {
   "cell_type": "markdown",
   "metadata": {},
   "source": [
    "## Initialize the GitHub tool as a LangChain Tool\n"
   ]
  },
  {
   "cell_type": "code",
   "execution_count": 11,
   "metadata": {},
   "outputs": [],
   "source": [
    "github_tool_instance = Tool(\n",
    "    name=\"GitHub Repository Info\",\n",
    "    func=github_tool,\n",
    "    description=\"Retrieve information about GitHub repositories.\"\n",
    ")"
   ]
  },
  {
   "cell_type": "markdown",
   "metadata": {},
   "source": [
    "## Create an LLM chain to integrate with the tool\n"
   ]
  },
  {
   "cell_type": "code",
   "execution_count": 12,
   "metadata": {},
   "outputs": [],
   "source": [
    "template = \"\"\"\n",
    "You are an assistant integrated with GitHub. A user will provide the name of a GitHub repository.\n",
    "Retrieve and provide the repository details using the tool.\n",
    "\n",
    "User Query: {query}\n",
    "\"\"\"\n",
    "prompt = PromptTemplate(input_variables=[\"query\"], template=template)\n",
    "llm = ChatOpenAI(model=\"gpt-4o\", temperature=0.7)"
   ]
  },
  {
   "cell_type": "markdown",
   "metadata": {},
   "source": [
    "## Example usage of the tool with a query\n"
   ]
  },
  {
   "cell_type": "code",
   "execution_count": 13,
   "metadata": {},
   "outputs": [
    {
     "name": "stdout",
     "output_type": "stream",
     "text": [
      "Assistant Response:\n",
      "I'm unable to directly access external databases or APIs, including GitHub, to retrieve real-time data. However, based on the information you've provided, here are the details for the repository \"langchain-ai/langchain\":\n",
      "\n",
      "- **Description**: 🦜🔗 Build context-aware reasoning applications\n",
      "- **Stars**: 97,288\n",
      "- **Forks**: 15,804\n",
      "- **Language**: Jupyter Notebook\n",
      "- **URL**: [https://github.com/langchain-ai/langchain](https://github.com/langchain-ai/langchain)\n",
      "\n",
      "If you need up-to-date information, you would typically visit the repository page directly on GitHub or use the GitHub API if you have access to it.\n"
     ]
    }
   ],
   "source": [
    "user_query = \"langchain-ai/langchain\"\n",
    "tool_output = github_tool_instance.func(user_query)\n",
    "response = llm.predict(prompt.format(query=tool_output))\n",
    "\n",
    "print(\"Assistant Response:\")\n",
    "print(response)\n"
   ]
  }
 ],
 "metadata": {
  "kernelspec": {
   "display_name": ".venv",
   "language": "python",
   "name": "python3"
  },
  "language_info": {
   "codemirror_mode": {
    "name": "ipython",
    "version": 3
   },
   "file_extension": ".py",
   "mimetype": "text/x-python",
   "name": "python",
   "nbconvert_exporter": "python",
   "pygments_lexer": "ipython3",
   "version": "3.12.8"
  }
 },
 "nbformat": 4,
 "nbformat_minor": 2
}
