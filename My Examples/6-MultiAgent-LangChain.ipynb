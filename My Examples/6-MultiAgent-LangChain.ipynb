{
  "cells": [
    {
      "cell_type": "markdown",
      "metadata": {},
      "source": [
        "# 🧠 Building a Multi-Agent System with LangChain\n",
        "\n",
        "In this notebook, we will build a **simple multi-agent system** using LangChain. We'll define two agents:\n",
        "\n",
        "- A **Retriever Agent** that simulates information retrieval\n",
        "- A **Summarizer Agent** that summarizes the retrieved info\n",
        "\n",
        "We'll then orchestrate them to solve a task end-to-end.\n",
        "\n",
        "Let's get started! 🚀\n"
      ]
    },
    {
      "cell_type": "markdown",
      "metadata": {},
      "source": [
        "## 1. Install LangChain and OpenAI SDK\n",
        "\n",
        "Make sure you have the required packages installed:\n"
      ]
    },
    {
      "cell_type": "code",
      "execution_count": 1,
      "metadata": {},
      "outputs": [
        {
          "name": "stdout",
          "output_type": "stream",
          "text": [
            "Requirement already satisfied: langchain in h:\\documents\\work\\langchain-zero-to-mastery\\.venv\\lib\\site-packages (0.3.13)\n",
            "Requirement already satisfied: openai in h:\\documents\\work\\langchain-zero-to-mastery\\.venv\\lib\\site-packages (1.58.1)\n",
            "Requirement already satisfied: PyYAML>=5.3 in h:\\documents\\work\\langchain-zero-to-mastery\\.venv\\lib\\site-packages (from langchain) (6.0.2)\n",
            "Requirement already satisfied: SQLAlchemy<3,>=1.4 in h:\\documents\\work\\langchain-zero-to-mastery\\.venv\\lib\\site-packages (from langchain) (2.0.36)\n",
            "Requirement already satisfied: aiohttp<4.0.0,>=3.8.3 in h:\\documents\\work\\langchain-zero-to-mastery\\.venv\\lib\\site-packages (from langchain) (3.11.11)\n",
            "Requirement already satisfied: langchain-core<0.4.0,>=0.3.26 in h:\\documents\\work\\langchain-zero-to-mastery\\.venv\\lib\\site-packages (from langchain) (0.3.28)\n",
            "Requirement already satisfied: langchain-text-splitters<0.4.0,>=0.3.3 in h:\\documents\\work\\langchain-zero-to-mastery\\.venv\\lib\\site-packages (from langchain) (0.3.4)\n",
            "Requirement already satisfied: langsmith<0.3,>=0.1.17 in h:\\documents\\work\\langchain-zero-to-mastery\\.venv\\lib\\site-packages (from langchain) (0.2.6)\n",
            "Requirement already satisfied: numpy<3,>=1.26.2 in h:\\documents\\work\\langchain-zero-to-mastery\\.venv\\lib\\site-packages (from langchain) (2.2.1)\n",
            "Requirement already satisfied: pydantic<3.0.0,>=2.7.4 in h:\\documents\\work\\langchain-zero-to-mastery\\.venv\\lib\\site-packages (from langchain) (2.10.4)\n",
            "Requirement already satisfied: requests<3,>=2 in h:\\documents\\work\\langchain-zero-to-mastery\\.venv\\lib\\site-packages (from langchain) (2.32.3)\n",
            "Requirement already satisfied: tenacity!=8.4.0,<10,>=8.1.0 in h:\\documents\\work\\langchain-zero-to-mastery\\.venv\\lib\\site-packages (from langchain) (9.0.0)\n",
            "Requirement already satisfied: anyio<5,>=3.5.0 in h:\\documents\\work\\langchain-zero-to-mastery\\.venv\\lib\\site-packages (from openai) (4.7.0)\n",
            "Requirement already satisfied: distro<2,>=1.7.0 in h:\\documents\\work\\langchain-zero-to-mastery\\.venv\\lib\\site-packages (from openai) (1.9.0)\n",
            "Requirement already satisfied: httpx<1,>=0.23.0 in h:\\documents\\work\\langchain-zero-to-mastery\\.venv\\lib\\site-packages (from openai) (0.28.1)\n",
            "Requirement already satisfied: jiter<1,>=0.4.0 in h:\\documents\\work\\langchain-zero-to-mastery\\.venv\\lib\\site-packages (from openai) (0.8.2)\n",
            "Requirement already satisfied: sniffio in h:\\documents\\work\\langchain-zero-to-mastery\\.venv\\lib\\site-packages (from openai) (1.3.1)\n",
            "Requirement already satisfied: tqdm>4 in h:\\documents\\work\\langchain-zero-to-mastery\\.venv\\lib\\site-packages (from openai) (4.67.1)\n",
            "Requirement already satisfied: typing-extensions<5,>=4.11 in h:\\documents\\work\\langchain-zero-to-mastery\\.venv\\lib\\site-packages (from openai) (4.12.2)\n",
            "Requirement already satisfied: aiohappyeyeballs>=2.3.0 in h:\\documents\\work\\langchain-zero-to-mastery\\.venv\\lib\\site-packages (from aiohttp<4.0.0,>=3.8.3->langchain) (2.4.4)\n",
            "Requirement already satisfied: aiosignal>=1.1.2 in h:\\documents\\work\\langchain-zero-to-mastery\\.venv\\lib\\site-packages (from aiohttp<4.0.0,>=3.8.3->langchain) (1.3.2)\n",
            "Requirement already satisfied: attrs>=17.3.0 in h:\\documents\\work\\langchain-zero-to-mastery\\.venv\\lib\\site-packages (from aiohttp<4.0.0,>=3.8.3->langchain) (24.3.0)\n",
            "Requirement already satisfied: frozenlist>=1.1.1 in h:\\documents\\work\\langchain-zero-to-mastery\\.venv\\lib\\site-packages (from aiohttp<4.0.0,>=3.8.3->langchain) (1.5.0)\n",
            "Requirement already satisfied: multidict<7.0,>=4.5 in h:\\documents\\work\\langchain-zero-to-mastery\\.venv\\lib\\site-packages (from aiohttp<4.0.0,>=3.8.3->langchain) (6.1.0)\n",
            "Requirement already satisfied: propcache>=0.2.0 in h:\\documents\\work\\langchain-zero-to-mastery\\.venv\\lib\\site-packages (from aiohttp<4.0.0,>=3.8.3->langchain) (0.2.1)\n",
            "Requirement already satisfied: yarl<2.0,>=1.17.0 in h:\\documents\\work\\langchain-zero-to-mastery\\.venv\\lib\\site-packages (from aiohttp<4.0.0,>=3.8.3->langchain) (1.18.3)\n",
            "Requirement already satisfied: idna>=2.8 in h:\\documents\\work\\langchain-zero-to-mastery\\.venv\\lib\\site-packages (from anyio<5,>=3.5.0->openai) (3.10)\n",
            "Requirement already satisfied: certifi in h:\\documents\\work\\langchain-zero-to-mastery\\.venv\\lib\\site-packages (from httpx<1,>=0.23.0->openai) (2024.12.14)\n",
            "Requirement already satisfied: httpcore==1.* in h:\\documents\\work\\langchain-zero-to-mastery\\.venv\\lib\\site-packages (from httpx<1,>=0.23.0->openai) (1.0.7)\n",
            "Requirement already satisfied: h11<0.15,>=0.13 in h:\\documents\\work\\langchain-zero-to-mastery\\.venv\\lib\\site-packages (from httpcore==1.*->httpx<1,>=0.23.0->openai) (0.14.0)\n",
            "Requirement already satisfied: jsonpatch<2.0,>=1.33 in h:\\documents\\work\\langchain-zero-to-mastery\\.venv\\lib\\site-packages (from langchain-core<0.4.0,>=0.3.26->langchain) (1.33)\n",
            "Requirement already satisfied: packaging<25,>=23.2 in h:\\documents\\work\\langchain-zero-to-mastery\\.venv\\lib\\site-packages (from langchain-core<0.4.0,>=0.3.26->langchain) (24.2)\n",
            "Requirement already satisfied: orjson<4.0.0,>=3.9.14 in h:\\documents\\work\\langchain-zero-to-mastery\\.venv\\lib\\site-packages (from langsmith<0.3,>=0.1.17->langchain) (3.10.12)\n",
            "Requirement already satisfied: requests-toolbelt<2.0.0,>=1.0.0 in h:\\documents\\work\\langchain-zero-to-mastery\\.venv\\lib\\site-packages (from langsmith<0.3,>=0.1.17->langchain) (1.0.0)\n",
            "Requirement already satisfied: annotated-types>=0.6.0 in h:\\documents\\work\\langchain-zero-to-mastery\\.venv\\lib\\site-packages (from pydantic<3.0.0,>=2.7.4->langchain) (0.7.0)\n",
            "Requirement already satisfied: pydantic-core==2.27.2 in h:\\documents\\work\\langchain-zero-to-mastery\\.venv\\lib\\site-packages (from pydantic<3.0.0,>=2.7.4->langchain) (2.27.2)\n",
            "Requirement already satisfied: charset-normalizer<4,>=2 in h:\\documents\\work\\langchain-zero-to-mastery\\.venv\\lib\\site-packages (from requests<3,>=2->langchain) (3.4.1)\n",
            "Requirement already satisfied: urllib3<3,>=1.21.1 in h:\\documents\\work\\langchain-zero-to-mastery\\.venv\\lib\\site-packages (from requests<3,>=2->langchain) (2.3.0)\n",
            "Requirement already satisfied: greenlet!=0.4.17 in h:\\documents\\work\\langchain-zero-to-mastery\\.venv\\lib\\site-packages (from SQLAlchemy<3,>=1.4->langchain) (3.1.1)\n",
            "Requirement already satisfied: colorama in h:\\documents\\work\\langchain-zero-to-mastery\\.venv\\lib\\site-packages (from tqdm>4->openai) (0.4.6)\n",
            "Requirement already satisfied: jsonpointer>=1.9 in h:\\documents\\work\\langchain-zero-to-mastery\\.venv\\lib\\site-packages (from jsonpatch<2.0,>=1.33->langchain-core<0.4.0,>=0.3.26->langchain) (3.0.0)\n"
          ]
        },
        {
          "name": "stderr",
          "output_type": "stream",
          "text": [
            "\n",
            "[notice] A new release of pip is available: 24.3.1 -> 25.1.1\n",
            "[notice] To update, run: python.exe -m pip install --upgrade pip\n"
          ]
        }
      ],
      "source": [
        "!pip install langchain openai"
      ]
    },
    {
      "cell_type": "markdown",
      "metadata": {},
      "source": [
        "## 2. Import Required Modules\n"
      ]
    },
    {
      "cell_type": "code",
      "execution_count": 2,
      "metadata": {},
      "outputs": [],
      "source": [
        "from langchain.chat_models import ChatOpenAI\n",
        "from langchain.agents import create_openai_functions_agent, AgentExecutor\n",
        "from langchain.prompts import ChatPromptTemplate, MessagesPlaceholder\n",
        "from langchain.tools import Tool"
      ]
    },
    {
      "cell_type": "markdown",
      "metadata": {},
      "source": [
        "## 3. Define Tool Functions\n",
        "\n",
        "We define two dummy tools: one for retrieval and one for summarization.\n"
      ]
    },
    {
      "cell_type": "code",
      "execution_count": 3,
      "metadata": {},
      "outputs": [],
      "source": [
        "# Dummy tool functions\n",
        "def retrieve_info(input_text):\n",
        "    return f\"[Retrieved info about: {input_text}]\"\n",
        "\n",
        "def summarize_info(input_text):\n",
        "    return f\"[Summary of: {input_text}]\""
      ]
    },
    {
      "cell_type": "markdown",
      "metadata": {},
      "source": [
        "## 4. Wrap Tool Functions with LangChain Tool Class\n"
      ]
    },
    {
      "cell_type": "code",
      "execution_count": 4,
      "metadata": {},
      "outputs": [],
      "source": [
        "retrieval_tool = Tool(\n",
        "    name=\"Retriever\",\n",
        "    func=retrieve_info,\n",
        "    description=\"Retrieves relevant information based on the query.\"\n",
        ")\n",
        "\n",
        "summarization_tool = Tool(\n",
        "    name=\"Summarizer\",\n",
        "    func=summarize_info,\n",
        "    description=\"Summarizes the input information into concise form.\"\n",
        ")"
      ]
    },
    {
      "cell_type": "markdown",
      "metadata": {},
      "source": [
        "## 5. Define a Shared Prompt Template\n",
        "\n",
        "This template will be used by both agents.\n"
      ]
    },
    {
      "cell_type": "code",
      "execution_count": 5,
      "metadata": {},
      "outputs": [],
      "source": [
        "prompt_template = ChatPromptTemplate.from_messages([\n",
        "    (\"system\", \"You are a helpful assistant.\"),\n",
        "    (\"user\", \"{input}\"),\n",
        "    MessagesPlaceholder(variable_name=\"agent_scratchpad\"),\n",
        "])"
      ]
    },
    {
      "cell_type": "markdown",
      "metadata": {},
      "source": [
        "## 6. Load the Language Model\n"
      ]
    },
    {
      "cell_type": "code",
      "execution_count": 11,
      "id": "4837e6c9",
      "metadata": {},
      "outputs": [],
      "source": [
        "llm = ChatOpenAI(temperature=0, model='gpt-4o-mini')"
      ]
    },
    {
      "cell_type": "markdown",
      "id": "ab493eca",
      "metadata": {},
      "source": [
        "## 7. Create Retriever and Summarizer Agents\n"
      ]
    },
    {
      "cell_type": "code",
      "execution_count": 14,
      "id": "e18bc69e",
      "metadata": {},
      "outputs": [],
      "source": [
        "retriever_agent = AgentExecutor(\n",
        "    agent=create_openai_functions_agent(\n",
        "        llm=llm,\n",
        "        tools=[retrieval_tool],\n",
        "        prompt=prompt_template\n",
        "    ),\n",
        "    tools=[retrieval_tool]\n",
        ")\n",
        "\n",
        "summarizer_agent = AgentExecutor(\n",
        "    agent=create_openai_functions_agent(\n",
        "        llm=llm,\n",
        "        tools=[summarization_tool],\n",
        "        prompt=prompt_template\n",
        "    ),\n",
        "    tools=[summarization_tool]\n",
        ")"
      ]
    },
    {
      "cell_type": "markdown",
      "id": "6d816113",
      "metadata": {},
      "source": [
        "## 8. Define Orchestration Logic\n",
        "\n",
        "This function chains the retriever and summarizer agents.\n"
      ]
    },
    {
      "cell_type": "code",
      "execution_count": 12,
      "id": "12aa73d2",
      "metadata": {},
      "outputs": [],
      "source": [
        "def multi_agent_flow(query):\n",
        "    print(\"Retrieving info...\")\n",
        "    retrieved = retriever_agent.invoke({\"input\": query})\n",
        "    \n",
        "    print(\"Summarizing result...\")\n",
        "    summary = summarizer_agent.invoke({\"input\": retrieved[\"output\"]})\n",
        "\n",
        "    return summary[\"output\"]"
      ]
    },
    {
      "cell_type": "markdown",
      "id": "b7ba7465",
      "metadata": {},
      "source": [
        "## 9. Run the Multi-Agent Pipeline\n"
      ]
    },
    {
      "cell_type": "code",
      "execution_count": 13,
      "id": "5a6c6bbf",
      "metadata": {},
      "outputs": [
        {
          "name": "stdout",
          "output_type": "stream",
          "text": [
            "Retrieving info...\n",
            "Summarizing result...\n",
            "\n",
            "Final Answer: In 2024, climate change impacts are expected to manifest in several key areas:\n",
            "\n",
            "1. **Temperature Increases**: More frequent and intense heatwaves, posing health risks.\n",
            "2. **Extreme Weather Events**: Increased frequency of hurricanes, floods, and droughts, causing infrastructure damage and economic losses.\n",
            "3. **Sea Level Rise**: Threats to coastal communities with flooding and erosion, leading to displacement.\n",
            "4. **Ecosystem Disruption**: Affects biodiversity and species distributions, increasing extinction risks.\n",
            "5. **Agricultural Impacts**: Affects crop yields and food security, with reduced productivity in some regions.\n",
            "6. **Water Resources**: Strained by altered precipitation and evaporation, causing scarcity and competition.\n",
            "7. **Health Impacts**: Includes respiratory issues and the spread of vector-borne diseases.\n",
            "\n",
            "Mitigation and adaptation efforts are crucial to minimize these effects.\n"
          ]
        }
      ],
      "source": [
        "result = multi_agent_flow(\"Tell me about climate change impacts in 2024.\")\n",
        "print(\"\\nFinal Answer:\", result)"
      ]
    }
  ],
  "metadata": {
    "kernelspec": {
      "display_name": ".venv",
      "language": "python",
      "name": "python3"
    },
    "language_info": {
      "codemirror_mode": {
        "name": "ipython",
        "version": 3
      },
      "file_extension": ".py",
      "mimetype": "text/x-python",
      "name": "python",
      "nbconvert_exporter": "python",
      "pygments_lexer": "ipython3",
      "version": "3.12.10"
    }
  },
  "nbformat": 4,
  "nbformat_minor": 5
}
