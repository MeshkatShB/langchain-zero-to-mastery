{
 "cells": [
  {
   "cell_type": "markdown",
   "metadata": {},
   "source": [
    "# LangChain Zero to Mastery: Part 2 - Chains and Memory\n"
   ]
  },
  {
   "cell_type": "markdown",
   "metadata": {},
   "source": [
    "## 1. Introduction to Chains\n",
    "\n",
    "Chains in LangChain allow us to execute a sequence of tasks or prompts, making workflows more dynamic and structured.\n",
    "In this section, we'll build a sequential chain and later add memory to enhance its functionality.\n",
    "\n",
    "---\n"
   ]
  },
  {
   "cell_type": "markdown",
   "metadata": {},
   "source": [
    "### 2. Installing Dependencies\n",
    "\n",
    "Ensure you have LangChain and OpenAI installed.\n"
   ]
  },
  {
   "cell_type": "code",
   "execution_count": 1,
   "metadata": {},
   "outputs": [
    {
     "name": "stdout",
     "output_type": "stream",
     "text": [
      "Requirement already satisfied: langchain in h:\\documents\\work\\langchain-zero-to-mastery\\.venv\\lib\\site-packages (0.3.13)\n",
      "Requirement already satisfied: openai in h:\\documents\\work\\langchain-zero-to-mastery\\.venv\\lib\\site-packages (1.58.1)\n",
      "Requirement already satisfied: PyYAML>=5.3 in h:\\documents\\work\\langchain-zero-to-mastery\\.venv\\lib\\site-packages (from langchain) (6.0.2)\n",
      "Requirement already satisfied: SQLAlchemy<3,>=1.4 in h:\\documents\\work\\langchain-zero-to-mastery\\.venv\\lib\\site-packages (from langchain) (2.0.36)\n",
      "Requirement already satisfied: aiohttp<4.0.0,>=3.8.3 in h:\\documents\\work\\langchain-zero-to-mastery\\.venv\\lib\\site-packages (from langchain) (3.11.11)\n",
      "Requirement already satisfied: langchain-core<0.4.0,>=0.3.26 in h:\\documents\\work\\langchain-zero-to-mastery\\.venv\\lib\\site-packages (from langchain) (0.3.28)\n",
      "Requirement already satisfied: langchain-text-splitters<0.4.0,>=0.3.3 in h:\\documents\\work\\langchain-zero-to-mastery\\.venv\\lib\\site-packages (from langchain) (0.3.4)\n",
      "Requirement already satisfied: langsmith<0.3,>=0.1.17 in h:\\documents\\work\\langchain-zero-to-mastery\\.venv\\lib\\site-packages (from langchain) (0.2.6)\n",
      "Requirement already satisfied: numpy<3,>=1.26.2 in h:\\documents\\work\\langchain-zero-to-mastery\\.venv\\lib\\site-packages (from langchain) (2.2.1)\n",
      "Requirement already satisfied: pydantic<3.0.0,>=2.7.4 in h:\\documents\\work\\langchain-zero-to-mastery\\.venv\\lib\\site-packages (from langchain) (2.10.4)\n",
      "Requirement already satisfied: requests<3,>=2 in h:\\documents\\work\\langchain-zero-to-mastery\\.venv\\lib\\site-packages (from langchain) (2.32.3)\n",
      "Requirement already satisfied: tenacity!=8.4.0,<10,>=8.1.0 in h:\\documents\\work\\langchain-zero-to-mastery\\.venv\\lib\\site-packages (from langchain) (9.0.0)\n",
      "Requirement already satisfied: anyio<5,>=3.5.0 in h:\\documents\\work\\langchain-zero-to-mastery\\.venv\\lib\\site-packages (from openai) (4.7.0)\n",
      "Requirement already satisfied: distro<2,>=1.7.0 in h:\\documents\\work\\langchain-zero-to-mastery\\.venv\\lib\\site-packages (from openai) (1.9.0)\n",
      "Requirement already satisfied: httpx<1,>=0.23.0 in h:\\documents\\work\\langchain-zero-to-mastery\\.venv\\lib\\site-packages (from openai) (0.28.1)\n",
      "Requirement already satisfied: jiter<1,>=0.4.0 in h:\\documents\\work\\langchain-zero-to-mastery\\.venv\\lib\\site-packages (from openai) (0.8.2)\n",
      "Requirement already satisfied: sniffio in h:\\documents\\work\\langchain-zero-to-mastery\\.venv\\lib\\site-packages (from openai) (1.3.1)\n",
      "Requirement already satisfied: tqdm>4 in h:\\documents\\work\\langchain-zero-to-mastery\\.venv\\lib\\site-packages (from openai) (4.67.1)\n",
      "Requirement already satisfied: typing-extensions<5,>=4.11 in h:\\documents\\work\\langchain-zero-to-mastery\\.venv\\lib\\site-packages (from openai) (4.12.2)\n",
      "Requirement already satisfied: aiohappyeyeballs>=2.3.0 in h:\\documents\\work\\langchain-zero-to-mastery\\.venv\\lib\\site-packages (from aiohttp<4.0.0,>=3.8.3->langchain) (2.4.4)\n",
      "Requirement already satisfied: aiosignal>=1.1.2 in h:\\documents\\work\\langchain-zero-to-mastery\\.venv\\lib\\site-packages (from aiohttp<4.0.0,>=3.8.3->langchain) (1.3.2)\n",
      "Requirement already satisfied: attrs>=17.3.0 in h:\\documents\\work\\langchain-zero-to-mastery\\.venv\\lib\\site-packages (from aiohttp<4.0.0,>=3.8.3->langchain) (24.3.0)\n",
      "Requirement already satisfied: frozenlist>=1.1.1 in h:\\documents\\work\\langchain-zero-to-mastery\\.venv\\lib\\site-packages (from aiohttp<4.0.0,>=3.8.3->langchain) (1.5.0)\n",
      "Requirement already satisfied: multidict<7.0,>=4.5 in h:\\documents\\work\\langchain-zero-to-mastery\\.venv\\lib\\site-packages (from aiohttp<4.0.0,>=3.8.3->langchain) (6.1.0)\n",
      "Requirement already satisfied: propcache>=0.2.0 in h:\\documents\\work\\langchain-zero-to-mastery\\.venv\\lib\\site-packages (from aiohttp<4.0.0,>=3.8.3->langchain) (0.2.1)\n",
      "Requirement already satisfied: yarl<2.0,>=1.17.0 in h:\\documents\\work\\langchain-zero-to-mastery\\.venv\\lib\\site-packages (from aiohttp<4.0.0,>=3.8.3->langchain) (1.18.3)\n",
      "Requirement already satisfied: idna>=2.8 in h:\\documents\\work\\langchain-zero-to-mastery\\.venv\\lib\\site-packages (from anyio<5,>=3.5.0->openai) (3.10)\n",
      "Requirement already satisfied: certifi in h:\\documents\\work\\langchain-zero-to-mastery\\.venv\\lib\\site-packages (from httpx<1,>=0.23.0->openai) (2024.12.14)\n",
      "Requirement already satisfied: httpcore==1.* in h:\\documents\\work\\langchain-zero-to-mastery\\.venv\\lib\\site-packages (from httpx<1,>=0.23.0->openai) (1.0.7)\n",
      "Requirement already satisfied: h11<0.15,>=0.13 in h:\\documents\\work\\langchain-zero-to-mastery\\.venv\\lib\\site-packages (from httpcore==1.*->httpx<1,>=0.23.0->openai) (0.14.0)\n",
      "Requirement already satisfied: jsonpatch<2.0,>=1.33 in h:\\documents\\work\\langchain-zero-to-mastery\\.venv\\lib\\site-packages (from langchain-core<0.4.0,>=0.3.26->langchain) (1.33)\n",
      "Requirement already satisfied: packaging<25,>=23.2 in h:\\documents\\work\\langchain-zero-to-mastery\\.venv\\lib\\site-packages (from langchain-core<0.4.0,>=0.3.26->langchain) (24.2)\n",
      "Requirement already satisfied: orjson<4.0.0,>=3.9.14 in h:\\documents\\work\\langchain-zero-to-mastery\\.venv\\lib\\site-packages (from langsmith<0.3,>=0.1.17->langchain) (3.10.12)\n",
      "Requirement already satisfied: requests-toolbelt<2.0.0,>=1.0.0 in h:\\documents\\work\\langchain-zero-to-mastery\\.venv\\lib\\site-packages (from langsmith<0.3,>=0.1.17->langchain) (1.0.0)\n",
      "Requirement already satisfied: annotated-types>=0.6.0 in h:\\documents\\work\\langchain-zero-to-mastery\\.venv\\lib\\site-packages (from pydantic<3.0.0,>=2.7.4->langchain) (0.7.0)\n",
      "Requirement already satisfied: pydantic-core==2.27.2 in h:\\documents\\work\\langchain-zero-to-mastery\\.venv\\lib\\site-packages (from pydantic<3.0.0,>=2.7.4->langchain) (2.27.2)\n",
      "Requirement already satisfied: charset-normalizer<4,>=2 in h:\\documents\\work\\langchain-zero-to-mastery\\.venv\\lib\\site-packages (from requests<3,>=2->langchain) (3.4.1)\n",
      "Requirement already satisfied: urllib3<3,>=1.21.1 in h:\\documents\\work\\langchain-zero-to-mastery\\.venv\\lib\\site-packages (from requests<3,>=2->langchain) (2.3.0)\n",
      "Requirement already satisfied: greenlet!=0.4.17 in h:\\documents\\work\\langchain-zero-to-mastery\\.venv\\lib\\site-packages (from SQLAlchemy<3,>=1.4->langchain) (3.1.1)\n",
      "Requirement already satisfied: colorama in h:\\documents\\work\\langchain-zero-to-mastery\\.venv\\lib\\site-packages (from tqdm>4->openai) (0.4.6)\n",
      "Requirement already satisfied: jsonpointer>=1.9 in h:\\documents\\work\\langchain-zero-to-mastery\\.venv\\lib\\site-packages (from jsonpatch<2.0,>=1.33->langchain-core<0.4.0,>=0.3.26->langchain) (3.0.0)\n"
     ]
    }
   ],
   "source": [
    "!pip install langchain openai"
   ]
  },
  {
   "cell_type": "code",
   "execution_count": 7,
   "metadata": {},
   "outputs": [],
   "source": [
    "# Import necessary modules\n",
    "from langchain.prompts import PromptTemplate\n",
    "from langchain.chains import SimpleSequentialChain\n",
    "from langchain.memory import ConversationBufferMemory\n",
    "from langchain.chains import LLMChain\n",
    "from langchain.chat_models import ChatOpenAI\n"
   ]
  },
  {
   "cell_type": "markdown",
   "metadata": {},
   "source": [
    "---\n"
   ]
  },
  {
   "cell_type": "markdown",
   "metadata": {},
   "source": [
    "## 3. Sequential Chains\n"
   ]
  },
  {
   "cell_type": "markdown",
   "metadata": {},
   "source": [
    "### 3.1. Building a Sequential Chain\n",
    "\n",
    "In this example, we will use two prompts to create a sequential chain:\n",
    "\n",
    "- Prompt 1: Generate an idea based on user input.\n",
    "- Prompt 2: Expand on the generated idea.\n"
   ]
  },
  {
   "cell_type": "code",
   "execution_count": 8,
   "metadata": {},
   "outputs": [
    {
     "name": "stderr",
     "output_type": "stream",
     "text": [
      "C:\\Users\\Asus\\AppData\\Local\\Temp\\ipykernel_31920\\727086200.py:14: LangChainDeprecationWarning: The class `ChatOpenAI` was deprecated in LangChain 0.0.10 and will be removed in 1.0. An updated version of the class exists in the :class:`~langchain-openai package and should be used instead. To use it run `pip install -U :class:`~langchain-openai` and import as `from :class:`~langchain_openai import ChatOpenAI``.\n",
      "  llm = ChatOpenAI(model=\"gpt-4o-mini\", temperature=0.7)\n"
     ]
    },
    {
     "name": "stdout",
     "output_type": "stream",
     "text": [
      "Final Output:\n",
      " ### Expanded Idea: Community Solar Gardens with Local Crop Integration\n",
      "\n",
      "**Concept Overview:**\n",
      "The integration of community solar gardens with local agricultural practices presents a transformative approach to land use. This dual-use system not only maximizes the utility of available space but also fosters a resilient community that prioritizes sustainability, energy independence, and food security. By combining solar energy generation with crop cultivation, this model addresses pressing environmental challenges while enhancing the quality of life for community members.\n",
      "\n",
      "### How It Works:\n",
      "\n",
      "1. **Solar Panel Installation:**\n",
      "   - **Site Selection:** Identify underutilized community lands, such as vacant lots, park areas, or rooftops of municipal buildings and schools, where solar panels can be installed.\n",
      "   - **Design Considerations:** Ensure solar arrays are optimized for maximum sunlight exposure while allowing sufficient space for agricultural activities. Elevated solar panels can provide shade for crops, reducing water evaporation and protecting plants from extreme temperatures.\n",
      "\n",
      "2. **Agricultural Integration:**\n",
      "   - **Crop Selection:** Partner with local agricultural experts to select shade-tolerant and drought-resistant crops, such as certain varieties of greens, herbs, or legumes, which thrive in partial shade. \n",
      "   - **Companion Planting:** Utilize companion planting techniques to enhance crop yields and pest management, promoting a healthy ecosystem beneath the solar panels.\n",
      "   - **Soil Health:** Implement regenerative agricultural practices, such as cover cropping and natural composting, to maintain soil health and fertility.\n",
      "\n",
      "3. **Community Ownership Model:**\n",
      "   - **Investment Structure:** Develop a cooperative model where community members can purchase shares or subscribe to the solar garden. This investment can be structured to provide dividends through energy credits and crop shares.\n",
      "   - **Local Governance:** Establish a community board to oversee the solar garden and agricultural activities, ensuring that decisions reflect the interests of all stakeholders and promote inclusivity.\n",
      "\n",
      "4. **Educational Programs:**\n",
      "   - **Curriculum Development:** Collaborate with local schools to create a curriculum focused on renewable energy, sustainable agriculture, and environmental stewardship.\n",
      "   - **Hands-On Workshops:** Organize workshops that teach residents about solar technology, gardening techniques, and the importance of biodiversity, thus fostering a culture of sustainability.\n",
      "   - **Community Events:** Host seasonal harvest festivals or solar energy fairs that bring the community together, celebrating both energy production and local food systems.\n",
      "\n",
      "5. **Biodiversity Benefits:**\n",
      "   - **Pollinator Gardens:** Incorporate flowering plants and pollinator-friendly species around the solar garden to attract bees, butterflies, and other beneficial insects that enhance crop production.\n",
      "   - **Wildlife Habitat Creation:** Design areas within the solar garden to serve as habitats for local wildlife, thereby supporting biodiversity and creating a balanced ecosystem.\n",
      "\n",
      "6. **Economic Sustainability:**\n",
      "   - **Energy Revenue:** Engage with local utilities to create agreements for selling excess energy back to the grid, generating revenue for the community.\n",
      "   - **Local Market Opportunities:** Establish a farm-to-table initiative where surplus crops are sold at farmers' markets, local restaurants, or through community-supported agriculture (CSA) models, enhancing local food systems and economies.\n",
      "\n",
      "### Impact:\n",
      "\n",
      "1. **Sustainable Energy Generation:** Community solar gardens reduce reliance on fossil fuels, contributing to a lower carbon footprint and promoting the transition to renewable energy sources.\n",
      "  \n",
      "2. **Food Security:** By producing fresh, local food, the model addresses food deserts and improves access to nutritious options for community members, particularly vulnerable populations.\n",
      "\n",
      "3. **Economic Resilience:** The dual income streams from energy sales and crop production help stabilize the local economy, creating jobs and supporting small-scale farmers.\n",
      "\n",
      "4. **Environmental Stewardship:** The project promotes ecological health by enhancing biodiversity, improving soil quality, and conserving water, thereby mitigating the impacts of climate change.\n",
      "\n",
      "5. **Community Engagement:** Fostering a sense of ownership and participation in local sustainability initiatives strengthens community bonds and encourages collective action toward future environmental goals.\n",
      "\n",
      "6. **Scalability:** This model can be adapted and replicated in various communities, making it a versatile solution that can be tailored to meet local needs and conditions.\n",
      "\n",
      "### Conclusion:\n",
      "The integration of community solar gardens with agricultural practices represents a forward-thinking solution that addresses multiple challenges simultaneously. By fostering collaboration among residents, policymakers, and agricultural experts, this model can create thriving, resilient communities that are equipped to face the complexities of climate change, food insecurity, and economic instability. As more communities adopt this dual-use approach, they pave the way for a sustainable future that harmonizes energy generation and food production.\n"
     ]
    }
   ],
   "source": [
    "# Define the first prompt\n",
    "idea_prompt = PromptTemplate(\n",
    "    input_variables=[\"topic\"],\n",
    "    template=\"Generate an interesting idea for the following topic: {topic}\",\n",
    ")\n",
    "\n",
    "# Define the second prompt\n",
    "expand_prompt = PromptTemplate(\n",
    "    input_variables=[\"idea\"],\n",
    "    template=\"Expand on the following idea: {idea}\",\n",
    ")\n",
    "\n",
    "# Initialize the LLM\n",
    "llm = ChatOpenAI(model=\"gpt-4o-mini\", temperature=0.7)\n",
    "\n",
    "# Create the chains\n",
    "idea_chain = LLMChain(llm=llm, prompt=idea_prompt)\n",
    "expand_chain = LLMChain(llm=llm, prompt=expand_prompt)\n",
    "\n",
    "# Combine them into a Sequential Chain\n",
    "sequential_chain = SimpleSequentialChain(chains=[idea_chain, expand_chain])\n",
    "\n",
    "# Run the sequential chain\n",
    "topic = \"sustainable energy\"\n",
    "response = sequential_chain.run(topic)\n",
    "print(\"Final Output:\\n\", response)\n"
   ]
  },
  {
   "cell_type": "markdown",
   "metadata": {},
   "source": [
    "---\n"
   ]
  },
  {
   "cell_type": "markdown",
   "metadata": {},
   "source": [
    "## 4. Adding Memory to Chains\n"
   ]
  },
  {
   "cell_type": "markdown",
   "metadata": {},
   "source": [
    "### 4.1. Introduction to Memory\n",
    "\n",
    "Memory allows LangChain applications to retain context over multiple interactions.\n"
   ]
  },
  {
   "cell_type": "code",
   "execution_count": 9,
   "metadata": {},
   "outputs": [
    {
     "name": "stderr",
     "output_type": "stream",
     "text": [
      "C:\\Users\\Asus\\AppData\\Local\\Temp\\ipykernel_31920\\1424766882.py:2: LangChainDeprecationWarning: Please see the migration guide at: https://python.langchain.com/docs/versions/migrating_memory/\n",
      "  memory = ConversationBufferMemory()\n",
      "C:\\Users\\Asus\\AppData\\Local\\Temp\\ipykernel_31920\\1424766882.py:8: LangChainDeprecationWarning: The class `ConversationChain` was deprecated in LangChain 0.2.7 and will be removed in 1.0. Use :meth:`~RunnableWithMessageHistory: https://python.langchain.com/v0.2/api_reference/core/runnables/langchain_core.runnables.history.RunnableWithMessageHistory.html` instead.\n",
      "  conversation_chain = ConversationChain(llm=llm, memory=memory)\n"
     ]
    },
    {
     "name": "stdout",
     "output_type": "stream",
     "text": [
      "User: Hi, what do you know about renewable energy?\n",
      "Assistant: Hi there! Renewable energy refers to energy sourced from resources that are naturally replenished on a human timescale. This includes solar energy, wind energy, hydroelectric power, geothermal energy, and biomass. \n",
      "\n",
      "1. **Solar Energy**: This is harnessed from sunlight using photovoltaic cells or solar panels. Solar energy can be converted into electricity or heat for residential and commercial use. Innovations in solar technology, like solar shingles and concentrated solar power systems, are making this energy source more efficient.\n",
      "\n",
      "2. **Wind Energy**: Wind turbines convert the kinetic energy of wind into mechanical power, which can then be transformed into electricity. Wind farms, both onshore and offshore, have been expanding globally, especially in places with consistent wind patterns.\n",
      "\n",
      "3. **Hydroelectric Power**: This method generates electricity by using the flow of water, typically through dams. It accounts for a significant portion of renewable energy generation worldwide. Run-of-the-river hydro systems are also gaining popularity as a less intrusive alternative to traditional dam systems.\n",
      "\n",
      "4. **Geothermal Energy**: This involves harnessing heat from the Earth’s interior. Geothermal plants can produce electricity or provide direct heating. They are particularly effective in regions with volcanic activity, such as Iceland and parts of the United States.\n",
      "\n",
      "5. **Biomass**: This renewable resource includes organic materials like plant and animal waste. Biomass can be converted into biofuels, such as ethanol and biodiesel, or used directly for heating.\n",
      "\n",
      "The transition to renewable energy is crucial for reducing greenhouse gas emissions and combating climate change. Many countries are investing heavily in renewable technologies, aiming for a more sustainable and resilient energy future. If you have any specific aspect of renewable energy you’d like to know more about, feel free to ask!\n",
      "\n",
      "User: Can you explain more about solar energy?\n",
      "Assistant: Absolutely! Solar energy is a fascinating and rapidly evolving field. Here are some key aspects of solar energy in more detail:\n",
      "\n",
      "1. **Photovoltaic (PV) Cells**: Solar panels are made up of many individual solar cells that convert sunlight directly into electricity through the photovoltaic effect. When sunlight hits the cells, it excites electrons, creating an electric current. The efficiency of these cells has been steadily improving, with some of the latest technologies reaching efficiencies over 22%.\n",
      "\n",
      "2. **Types of Solar Panels**: There are primarily three types of solar panels:\n",
      "   - **Monocrystalline Panels**: Made from a single crystal structure, these panels are known for their high efficiency and longevity but are typically more expensive.\n",
      "   - **Polycrystalline Panels**: Made from multiple crystal structures, these are usually less efficient but also less expensive, making them a popular choice for many residential installations.\n",
      "   - **Thin-Film Panels**: These are made by depositing a thin layer of photovoltaic material on a substrate. They are lightweight and flexible, making them suitable for a variety of applications, though they generally have lower efficiency compared to crystalline panels.\n",
      "\n",
      "3. **Solar Thermal Systems**: In addition to photovoltaic systems, solar energy can also be harnessed for heating through solar thermal systems. These systems use sunlight to heat a fluid, which can then be used for space heating or to produce steam for electricity generation.\n",
      "\n",
      "4. **Concentrated Solar Power (CSP)**: This technology uses mirrors or lenses to concentrate sunlight onto a small area, generating heat that can produce steam to drive a turbine, generating electricity. CSP systems are often deployed in large solar farms and can also incorporate thermal storage to provide energy even when the sun isn't shining.\n",
      "\n",
      "5. **Energy Storage**: One of the challenges with solar energy is its intermittent nature—it's only produced when the sun is shining. To address this, energy storage solutions, such as lithium-ion batteries, are becoming increasingly important. These systems can store excess energy generated during sunny periods for use during cloudy days or at night.\n",
      "\n",
      "6. **Net Metering**: Many regions offer net metering programs that allow homeowners with solar panels to sell excess electricity back to the grid. This can significantly reduce electricity bills and incentivize the adoption of solar technology.\n",
      "\n",
      "7. **Environmental Impact**: Solar energy is a clean, renewable source of energy that helps reduce greenhouse gas emissions. However, there are environmental considerations, such as land use for large solar farms and the lifecycle impact of manufacturing solar panels.\n",
      "\n",
      "The growth of solar energy is being supported by falling costs, technological advancements, and government incentives in many countries. If you have any specific questions about installations, technologies, or policies related to solar energy, just let me know!\n"
     ]
    }
   ],
   "source": [
    "# Initialize Memory\n",
    "memory = ConversationBufferMemory()\n",
    "\n",
    "# Add memory to a chain\n",
    "from langchain.chains import ConversationChain\n",
    "\n",
    "# Create a conversational chain with memory\n",
    "conversation_chain = ConversationChain(llm=llm, memory=memory)\n",
    "\n",
    "# Interact with the chain\n",
    "print(\"User: Hi, what do you know about renewable energy?\")\n",
    "response = conversation_chain.run(\"Hi, what do you know about renewable energy?\")\n",
    "print(\"Assistant:\", response)\n",
    "\n",
    "print(\"\\nUser: Can you explain more about solar energy?\")\n",
    "response = conversation_chain.run(\"Can you explain more about solar energy?\")\n",
    "print(\"Assistant:\", response)\n"
   ]
  },
  {
   "cell_type": "markdown",
   "metadata": {},
   "source": [
    "---\n"
   ]
  },
  {
   "cell_type": "markdown",
   "metadata": {},
   "source": [
    "## 5. Summary\n",
    "\n",
    "In this part, we explored:\n",
    "\n",
    "- Building Sequential Chains to execute tasks in sequence.\n",
    "- Adding Memory to Chains for context-aware conversations.\n",
    "\n",
    "In the next part, we will dive into Retrieval-Augmented Generation (RAG) and learn how to build document question-answering systems. Stay tuned!\n"
   ]
  }
 ],
 "metadata": {
  "kernelspec": {
   "display_name": ".venv",
   "language": "python",
   "name": "python3"
  },
  "language_info": {
   "codemirror_mode": {
    "name": "ipython",
    "version": 3
   },
   "file_extension": ".py",
   "mimetype": "text/x-python",
   "name": "python",
   "nbconvert_exporter": "python",
   "pygments_lexer": "ipython3",
   "version": "3.12.8"
  }
 },
 "nbformat": 4,
 "nbformat_minor": 2
}
